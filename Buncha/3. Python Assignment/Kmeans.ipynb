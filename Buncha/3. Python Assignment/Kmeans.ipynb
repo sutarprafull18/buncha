{
 "cells": [
  {
   "cell_type": "code",
   "execution_count": 1,
   "id": "24b887ec",
   "metadata": {},
   "outputs": [],
   "source": [
    "import pandas as pd\n",
    "from sklearn.cluster import KMeans\n",
    "import matplotlib.pyplot as plt"
   ]
  },
  {
   "cell_type": "code",
   "execution_count": 2,
   "id": "66590cb9",
   "metadata": {},
   "outputs": [],
   "source": [
    "df = pd.read_csv(\"customers.csv\")"
   ]
  },
  {
   "cell_type": "code",
   "execution_count": 3,
   "id": "6a968348",
   "metadata": {},
   "outputs": [
    {
     "data": {
      "text/html": [
       "<div>\n",
       "<style scoped>\n",
       "    .dataframe tbody tr th:only-of-type {\n",
       "        vertical-align: middle;\n",
       "    }\n",
       "\n",
       "    .dataframe tbody tr th {\n",
       "        vertical-align: top;\n",
       "    }\n",
       "\n",
       "    .dataframe thead th {\n",
       "        text-align: right;\n",
       "    }\n",
       "</style>\n",
       "<table border=\"1\" class=\"dataframe\">\n",
       "  <thead>\n",
       "    <tr style=\"text-align: right;\">\n",
       "      <th></th>\n",
       "      <th>customer_id</th>\n",
       "      <th>total_spend</th>\n",
       "      <th>num_orders</th>\n",
       "      <th>last_order_date</th>\n",
       "    </tr>\n",
       "  </thead>\n",
       "  <tbody>\n",
       "    <tr>\n",
       "      <th>0</th>\n",
       "      <td>1001</td>\n",
       "      <td>8072.510788</td>\n",
       "      <td>14</td>\n",
       "      <td>2023-05-28</td>\n",
       "    </tr>\n",
       "    <tr>\n",
       "      <th>1</th>\n",
       "      <td>1002</td>\n",
       "      <td>4295.331083</td>\n",
       "      <td>39</td>\n",
       "      <td>2023-09-06</td>\n",
       "    </tr>\n",
       "    <tr>\n",
       "      <th>2</th>\n",
       "      <td>1003</td>\n",
       "      <td>9527.625896</td>\n",
       "      <td>10</td>\n",
       "      <td>2023-05-10</td>\n",
       "    </tr>\n",
       "    <tr>\n",
       "      <th>3</th>\n",
       "      <td>1004</td>\n",
       "      <td>4760.739090</td>\n",
       "      <td>46</td>\n",
       "      <td>2023-03-06</td>\n",
       "    </tr>\n",
       "    <tr>\n",
       "      <th>4</th>\n",
       "      <td>1005</td>\n",
       "      <td>6070.383831</td>\n",
       "      <td>45</td>\n",
       "      <td>2023-06-24</td>\n",
       "    </tr>\n",
       "    <tr>\n",
       "      <th>...</th>\n",
       "      <td>...</td>\n",
       "      <td>...</td>\n",
       "      <td>...</td>\n",
       "      <td>...</td>\n",
       "    </tr>\n",
       "    <tr>\n",
       "      <th>995</th>\n",
       "      <td>1996</td>\n",
       "      <td>5208.117050</td>\n",
       "      <td>4</td>\n",
       "      <td>2023-10-06</td>\n",
       "    </tr>\n",
       "    <tr>\n",
       "      <th>996</th>\n",
       "      <td>1997</td>\n",
       "      <td>9912.171374</td>\n",
       "      <td>30</td>\n",
       "      <td>2023-01-20</td>\n",
       "    </tr>\n",
       "    <tr>\n",
       "      <th>997</th>\n",
       "      <td>1998</td>\n",
       "      <td>7101.159629</td>\n",
       "      <td>8</td>\n",
       "      <td>2023-11-01</td>\n",
       "    </tr>\n",
       "    <tr>\n",
       "      <th>998</th>\n",
       "      <td>1999</td>\n",
       "      <td>7886.051337</td>\n",
       "      <td>46</td>\n",
       "      <td>2023-07-02</td>\n",
       "    </tr>\n",
       "    <tr>\n",
       "      <th>999</th>\n",
       "      <td>2000</td>\n",
       "      <td>8735.981732</td>\n",
       "      <td>13</td>\n",
       "      <td>2023-07-09</td>\n",
       "    </tr>\n",
       "  </tbody>\n",
       "</table>\n",
       "<p>1000 rows × 4 columns</p>\n",
       "</div>"
      ],
      "text/plain": [
       "     customer_id  total_spend  num_orders last_order_date\n",
       "0           1001  8072.510788          14      2023-05-28\n",
       "1           1002  4295.331083          39      2023-09-06\n",
       "2           1003  9527.625896          10      2023-05-10\n",
       "3           1004  4760.739090          46      2023-03-06\n",
       "4           1005  6070.383831          45      2023-06-24\n",
       "..           ...          ...         ...             ...\n",
       "995         1996  5208.117050           4      2023-10-06\n",
       "996         1997  9912.171374          30      2023-01-20\n",
       "997         1998  7101.159629           8      2023-11-01\n",
       "998         1999  7886.051337          46      2023-07-02\n",
       "999         2000  8735.981732          13      2023-07-09\n",
       "\n",
       "[1000 rows x 4 columns]"
      ]
     },
     "execution_count": 3,
     "metadata": {},
     "output_type": "execute_result"
    }
   ],
   "source": [
    "df"
   ]
  },
  {
   "cell_type": "code",
   "execution_count": 4,
   "id": "925a6150",
   "metadata": {},
   "outputs": [],
   "source": [
    "X = df[['total_spend','num_orders']]"
   ]
  },
  {
   "cell_type": "code",
   "execution_count": 5,
   "id": "a77cbb41",
   "metadata": {},
   "outputs": [],
   "source": [
    "km = KMeans(n_clusters=3, random_state=42)"
   ]
  },
  {
   "cell_type": "code",
   "execution_count": 6,
   "id": "f94ab239",
   "metadata": {},
   "outputs": [],
   "source": [
    "y_pred = km.fit_predict(X)"
   ]
  },
  {
   "cell_type": "code",
   "execution_count": 7,
   "id": "95e3fa6d",
   "metadata": {},
   "outputs": [
    {
     "data": {
      "text/plain": [
       "array([1, 2, 1, 2, 2, 1, 0, 0, 0, 2, 0, 1, 2, 1, 1, 0, 1, 1, 2, 1, 1, 0,\n",
       "       1, 1, 1, 0, 1, 1, 0, 2, 2, 0, 2, 2, 0, 0, 1, 0, 0, 1, 0, 2, 0, 1,\n",
       "       0, 0, 2, 1, 1, 2, 0, 0, 2, 1, 0, 2, 2, 2, 2, 2, 1, 1, 1, 0, 2, 2,\n",
       "       2, 2, 0, 0, 0, 1, 2, 2, 2, 0, 1, 0, 1, 0, 0, 2, 2, 2, 1, 0, 2, 0,\n",
       "       2, 1, 1, 0, 2, 0, 1, 2, 2, 2, 0, 1, 2, 2, 0, 1, 1, 1, 1, 1, 1, 2,\n",
       "       0, 1, 0, 0, 0, 0, 1, 1, 1, 1, 0, 2, 2, 2, 0, 0, 2, 2, 2, 2, 0, 2,\n",
       "       2, 0, 2, 2, 2, 1, 1, 1, 2, 0, 1, 1, 0, 0, 0, 2, 1, 2, 2, 1, 2, 1,\n",
       "       1, 0, 0, 0, 0, 1, 0, 0, 0, 0, 2, 2, 0, 1, 1, 0, 1, 2, 2, 2, 0, 1,\n",
       "       1, 0, 2, 2, 2, 2, 2, 2, 2, 2, 2, 1, 1, 0, 0, 0, 0, 2, 2, 0, 1, 1,\n",
       "       0, 1, 1, 2, 0, 0, 1, 0, 1, 2, 0, 1, 1, 1, 1, 2, 2, 1, 0, 1, 2, 0,\n",
       "       0, 0, 0, 2, 0, 1, 1, 2, 0, 0, 2, 0, 1, 1, 0, 0, 1, 0, 0, 1, 1, 2,\n",
       "       1, 2, 2, 2, 0, 2, 0, 1, 2, 1, 2, 0, 2, 2, 0, 2, 2, 1, 1, 1, 0, 1,\n",
       "       2, 0, 1, 2, 0, 2, 0, 0, 0, 1, 2, 0, 2, 0, 2, 2, 0, 1, 0, 1, 1, 2,\n",
       "       2, 1, 1, 0, 1, 2, 0, 2, 1, 2, 2, 1, 0, 2, 2, 2, 2, 0, 1, 0, 0, 2,\n",
       "       0, 1, 1, 1, 1, 0, 2, 1, 2, 0, 1, 2, 2, 1, 0, 2, 1, 0, 2, 1, 0, 1,\n",
       "       0, 2, 0, 2, 1, 1, 0, 0, 2, 1, 0, 1, 2, 0, 2, 1, 1, 1, 2, 2, 2, 2,\n",
       "       2, 2, 0, 2, 0, 2, 1, 2, 2, 0, 0, 0, 1, 2, 0, 0, 1, 2, 1, 0, 0, 1,\n",
       "       1, 0, 1, 0, 2, 2, 2, 0, 2, 2, 2, 2, 0, 2, 1, 2, 2, 2, 1, 2, 1, 1,\n",
       "       0, 0, 1, 1, 2, 1, 1, 1, 1, 0, 2, 1, 0, 2, 0, 1, 2, 2, 1, 2, 2, 2,\n",
       "       2, 0, 0, 0, 0, 0, 2, 2, 0, 2, 2, 1, 1, 0, 2, 2, 0, 1, 1, 1, 1, 2,\n",
       "       0, 2, 0, 0, 2, 2, 0, 0, 1, 0, 1, 1, 1, 2, 0, 0, 2, 2, 1, 0, 0, 0,\n",
       "       2, 2, 0, 2, 0, 0, 2, 2, 0, 1, 1, 0, 1, 1, 1, 1, 0, 2, 0, 2, 0, 0,\n",
       "       1, 2, 2, 2, 0, 0, 2, 2, 2, 0, 0, 0, 1, 1, 0, 2, 0, 0, 0, 2, 2, 0,\n",
       "       0, 2, 0, 2, 1, 2, 1, 0, 2, 1, 2, 0, 1, 1, 1, 1, 2, 2, 2, 1, 2, 2,\n",
       "       2, 1, 1, 2, 1, 2, 2, 1, 0, 2, 2, 1, 1, 0, 2, 2, 2, 0, 1, 0, 1, 1,\n",
       "       0, 0, 0, 0, 1, 1, 0, 0, 1, 1, 2, 0, 1, 2, 1, 1, 0, 1, 1, 2, 0, 1,\n",
       "       0, 1, 2, 2, 0, 1, 1, 0, 1, 2, 2, 1, 2, 2, 2, 0, 0, 2, 2, 2, 0, 1,\n",
       "       1, 2, 0, 0, 2, 2, 2, 0, 0, 0, 1, 0, 0, 1, 0, 0, 1, 0, 0, 1, 2, 2,\n",
       "       1, 0, 0, 0, 0, 0, 2, 1, 1, 1, 2, 1, 0, 1, 2, 2, 2, 1, 0, 1, 2, 2,\n",
       "       1, 0, 1, 1, 2, 1, 1, 0, 0, 0, 2, 2, 0, 1, 2, 0, 1, 2, 1, 1, 2, 2,\n",
       "       2, 1, 0, 0, 2, 1, 0, 0, 0, 0, 0, 2, 1, 2, 2, 1, 2, 1, 2, 2, 0, 2,\n",
       "       1, 1, 2, 2, 1, 1, 2, 1, 1, 1, 0, 0, 2, 0, 0, 2, 1, 1, 2, 0, 1, 0,\n",
       "       2, 1, 2, 0, 2, 0, 0, 0, 2, 0, 1, 0, 2, 1, 2, 1, 2, 1, 2, 2, 2, 2,\n",
       "       1, 2, 2, 2, 2, 1, 2, 1, 0, 2, 1, 2, 1, 2, 0, 1, 0, 2, 2, 0, 2, 2,\n",
       "       0, 2, 0, 2, 0, 0, 1, 0, 0, 0, 2, 2, 2, 1, 0, 0, 2, 0, 0, 0, 1, 1,\n",
       "       1, 2, 1, 1, 0, 2, 0, 0, 0, 2, 0, 1, 1, 0, 0, 2, 2, 1, 1, 2, 1, 1,\n",
       "       2, 1, 2, 1, 0, 1, 2, 0, 1, 0, 0, 0, 2, 0, 0, 1, 0, 2, 1, 0, 1, 2,\n",
       "       1, 1, 1, 1, 2, 0, 0, 1, 1, 1, 0, 0, 1, 1, 2, 1, 0, 2, 0, 1, 0, 1,\n",
       "       0, 2, 2, 1, 1, 1, 2, 2, 1, 2, 0, 1, 2, 0, 0, 2, 1, 0, 1, 2, 0, 1,\n",
       "       0, 0, 2, 1, 0, 2, 1, 2, 2, 1, 2, 0, 1, 2, 1, 0, 1, 0, 1, 2, 2, 0,\n",
       "       2, 0, 1, 2, 0, 1, 1, 1, 0, 2, 0, 2, 1, 0, 1, 0, 2, 1, 0, 2, 2, 2,\n",
       "       1, 2, 1, 1, 2, 2, 2, 1, 0, 1, 0, 2, 2, 1, 1, 2, 2, 1, 2, 2, 2, 1,\n",
       "       0, 0, 0, 0, 2, 0, 0, 0, 2, 0, 2, 0, 2, 0, 0, 1, 2, 2, 1, 1, 1, 0,\n",
       "       0, 0, 1, 2, 0, 2, 0, 1, 2, 1, 0, 1, 1, 1, 0, 2, 0, 0, 0, 2, 2, 2,\n",
       "       2, 1, 1, 1, 0, 1, 0, 1, 0, 0, 0, 1, 1, 0, 0, 0, 1, 0, 2, 1, 2, 0,\n",
       "       1, 1, 0, 2, 0, 2, 1, 1, 1, 1])"
      ]
     },
     "execution_count": 7,
     "metadata": {},
     "output_type": "execute_result"
    }
   ],
   "source": [
    "y_pred"
   ]
  },
  {
   "cell_type": "code",
   "execution_count": 8,
   "id": "da89851c",
   "metadata": {},
   "outputs": [],
   "source": [
    "dfk = df.drop(['customer_id','last_order_date'],axis=1)"
   ]
  },
  {
   "cell_type": "code",
   "execution_count": 9,
   "id": "b0dd9338",
   "metadata": {},
   "outputs": [
    {
     "data": {
      "text/html": [
       "<div>\n",
       "<style scoped>\n",
       "    .dataframe tbody tr th:only-of-type {\n",
       "        vertical-align: middle;\n",
       "    }\n",
       "\n",
       "    .dataframe tbody tr th {\n",
       "        vertical-align: top;\n",
       "    }\n",
       "\n",
       "    .dataframe thead th {\n",
       "        text-align: right;\n",
       "    }\n",
       "</style>\n",
       "<table border=\"1\" class=\"dataframe\">\n",
       "  <thead>\n",
       "    <tr style=\"text-align: right;\">\n",
       "      <th></th>\n",
       "      <th>total_spend</th>\n",
       "      <th>num_orders</th>\n",
       "    </tr>\n",
       "  </thead>\n",
       "  <tbody>\n",
       "    <tr>\n",
       "      <th>0</th>\n",
       "      <td>8072.510788</td>\n",
       "      <td>14</td>\n",
       "    </tr>\n",
       "    <tr>\n",
       "      <th>1</th>\n",
       "      <td>4295.331083</td>\n",
       "      <td>39</td>\n",
       "    </tr>\n",
       "    <tr>\n",
       "      <th>2</th>\n",
       "      <td>9527.625896</td>\n",
       "      <td>10</td>\n",
       "    </tr>\n",
       "    <tr>\n",
       "      <th>3</th>\n",
       "      <td>4760.739090</td>\n",
       "      <td>46</td>\n",
       "    </tr>\n",
       "    <tr>\n",
       "      <th>4</th>\n",
       "      <td>6070.383831</td>\n",
       "      <td>45</td>\n",
       "    </tr>\n",
       "    <tr>\n",
       "      <th>...</th>\n",
       "      <td>...</td>\n",
       "      <td>...</td>\n",
       "    </tr>\n",
       "    <tr>\n",
       "      <th>995</th>\n",
       "      <td>5208.117050</td>\n",
       "      <td>4</td>\n",
       "    </tr>\n",
       "    <tr>\n",
       "      <th>996</th>\n",
       "      <td>9912.171374</td>\n",
       "      <td>30</td>\n",
       "    </tr>\n",
       "    <tr>\n",
       "      <th>997</th>\n",
       "      <td>7101.159629</td>\n",
       "      <td>8</td>\n",
       "    </tr>\n",
       "    <tr>\n",
       "      <th>998</th>\n",
       "      <td>7886.051337</td>\n",
       "      <td>46</td>\n",
       "    </tr>\n",
       "    <tr>\n",
       "      <th>999</th>\n",
       "      <td>8735.981732</td>\n",
       "      <td>13</td>\n",
       "    </tr>\n",
       "  </tbody>\n",
       "</table>\n",
       "<p>1000 rows × 2 columns</p>\n",
       "</div>"
      ],
      "text/plain": [
       "     total_spend  num_orders\n",
       "0    8072.510788          14\n",
       "1    4295.331083          39\n",
       "2    9527.625896          10\n",
       "3    4760.739090          46\n",
       "4    6070.383831          45\n",
       "..           ...         ...\n",
       "995  5208.117050           4\n",
       "996  9912.171374          30\n",
       "997  7101.159629           8\n",
       "998  7886.051337          46\n",
       "999  8735.981732          13\n",
       "\n",
       "[1000 rows x 2 columns]"
      ]
     },
     "execution_count": 9,
     "metadata": {},
     "output_type": "execute_result"
    }
   ],
   "source": [
    "dfk"
   ]
  },
  {
   "cell_type": "code",
   "execution_count": 10,
   "id": "4a82c547",
   "metadata": {},
   "outputs": [],
   "source": [
    "dfk['cluster']=y_pred"
   ]
  },
  {
   "cell_type": "code",
   "execution_count": 11,
   "id": "2141520d",
   "metadata": {},
   "outputs": [
    {
     "data": {
      "text/html": [
       "<div>\n",
       "<style scoped>\n",
       "    .dataframe tbody tr th:only-of-type {\n",
       "        vertical-align: middle;\n",
       "    }\n",
       "\n",
       "    .dataframe tbody tr th {\n",
       "        vertical-align: top;\n",
       "    }\n",
       "\n",
       "    .dataframe thead th {\n",
       "        text-align: right;\n",
       "    }\n",
       "</style>\n",
       "<table border=\"1\" class=\"dataframe\">\n",
       "  <thead>\n",
       "    <tr style=\"text-align: right;\">\n",
       "      <th></th>\n",
       "      <th>total_spend</th>\n",
       "      <th>num_orders</th>\n",
       "      <th>cluster</th>\n",
       "    </tr>\n",
       "  </thead>\n",
       "  <tbody>\n",
       "    <tr>\n",
       "      <th>0</th>\n",
       "      <td>8072.510788</td>\n",
       "      <td>14</td>\n",
       "      <td>1</td>\n",
       "    </tr>\n",
       "    <tr>\n",
       "      <th>1</th>\n",
       "      <td>4295.331083</td>\n",
       "      <td>39</td>\n",
       "      <td>2</td>\n",
       "    </tr>\n",
       "    <tr>\n",
       "      <th>2</th>\n",
       "      <td>9527.625896</td>\n",
       "      <td>10</td>\n",
       "      <td>1</td>\n",
       "    </tr>\n",
       "    <tr>\n",
       "      <th>3</th>\n",
       "      <td>4760.739090</td>\n",
       "      <td>46</td>\n",
       "      <td>2</td>\n",
       "    </tr>\n",
       "    <tr>\n",
       "      <th>4</th>\n",
       "      <td>6070.383831</td>\n",
       "      <td>45</td>\n",
       "      <td>2</td>\n",
       "    </tr>\n",
       "    <tr>\n",
       "      <th>...</th>\n",
       "      <td>...</td>\n",
       "      <td>...</td>\n",
       "      <td>...</td>\n",
       "    </tr>\n",
       "    <tr>\n",
       "      <th>995</th>\n",
       "      <td>5208.117050</td>\n",
       "      <td>4</td>\n",
       "      <td>2</td>\n",
       "    </tr>\n",
       "    <tr>\n",
       "      <th>996</th>\n",
       "      <td>9912.171374</td>\n",
       "      <td>30</td>\n",
       "      <td>1</td>\n",
       "    </tr>\n",
       "    <tr>\n",
       "      <th>997</th>\n",
       "      <td>7101.159629</td>\n",
       "      <td>8</td>\n",
       "      <td>1</td>\n",
       "    </tr>\n",
       "    <tr>\n",
       "      <th>998</th>\n",
       "      <td>7886.051337</td>\n",
       "      <td>46</td>\n",
       "      <td>1</td>\n",
       "    </tr>\n",
       "    <tr>\n",
       "      <th>999</th>\n",
       "      <td>8735.981732</td>\n",
       "      <td>13</td>\n",
       "      <td>1</td>\n",
       "    </tr>\n",
       "  </tbody>\n",
       "</table>\n",
       "<p>1000 rows × 3 columns</p>\n",
       "</div>"
      ],
      "text/plain": [
       "     total_spend  num_orders  cluster\n",
       "0    8072.510788          14        1\n",
       "1    4295.331083          39        2\n",
       "2    9527.625896          10        1\n",
       "3    4760.739090          46        2\n",
       "4    6070.383831          45        2\n",
       "..           ...         ...      ...\n",
       "995  5208.117050           4        2\n",
       "996  9912.171374          30        1\n",
       "997  7101.159629           8        1\n",
       "998  7886.051337          46        1\n",
       "999  8735.981732          13        1\n",
       "\n",
       "[1000 rows x 3 columns]"
      ]
     },
     "execution_count": 11,
     "metadata": {},
     "output_type": "execute_result"
    }
   ],
   "source": [
    "dfk"
   ]
  },
  {
   "cell_type": "code",
   "execution_count": 12,
   "id": "12d9c388",
   "metadata": {},
   "outputs": [],
   "source": [
    "df1=dfk[dfk.cluster==0]\n",
    "df2=dfk[dfk.cluster==1]\n",
    "df3=dfk[dfk.cluster==2]"
   ]
  },
  {
   "cell_type": "code",
   "execution_count": 13,
   "id": "76b48572",
   "metadata": {},
   "outputs": [
    {
     "data": {
      "text/plain": [
       "array([[1840.13368858,   25.78915663],\n",
       "       [8349.83632257,   26.02786378],\n",
       "       [5230.82597141,   25.71014493]])"
      ]
     },
     "execution_count": 13,
     "metadata": {},
     "output_type": "execute_result"
    }
   ],
   "source": [
    "km.cluster_centers_"
   ]
  },
  {
   "cell_type": "code",
   "execution_count": 14,
   "id": "7bf84428",
   "metadata": {},
   "outputs": [
    {
     "name": "stderr",
     "output_type": "stream",
     "text": [
      "No artists with labels found to put in legend.  Note that artists whose label start with an underscore are ignored when legend() is called with no argument.\n"
     ]
    },
    {
     "data": {
      "text/plain": [
       "<matplotlib.legend.Legend at 0x28fcd5d1c10>"
      ]
     },
     "execution_count": 14,
     "metadata": {},
     "output_type": "execute_result"
    },
    {
     "data": {
      "image/png": "[encoded data removed]",
      "text/plain": [
       "<Figure size 432x288 with 1 Axes>"
      ]
     },
     "metadata": {
      "needs_background": "light"
     },
     "output_type": "display_data"
    }
   ],
   "source": [
    "plt.scatter(df1.num_orders,df1['total_spend'],color='red')\n",
    "plt.scatter(df2.num_orders,df2['total_spend'],color='green')\n",
    "plt.scatter(df3.num_orders,df3['total_spend'],color='blue')\n",
    "\n",
    "plt.xlabel('num_orders')\n",
    "plt.ylabel('total_spend')\n",
    "plt.legend()"
   ]
  },
  {
   "cell_type": "code",
   "execution_count": 15,
   "id": "aca77856",
   "metadata": {},
   "outputs": [
    {
     "data": {
      "image/png": "[encoded data removed]",
      "text/plain": [
       "<Figure size 432x288 with 1 Axes>"
      ]
     },
     "metadata": {
      "needs_background": "light"
     },
     "output_type": "display_data"
    }
   ],
   "source": [
    "plt.scatter(df1.num_orders,df1['total_spend'],color='red')\n",
    "plt.scatter(df2.num_orders,df2['total_spend'],color='green')\n",
    "plt.scatter(df3.num_orders,df3['total_spend'],color='blue')\n",
    "\n",
    "plt.scatter(km.cluster_centers_[:, 0], km.cluster_centers_[:, 1], color='purple', marker='X', s=200, label='Centroids')\n",
    "\n",
    "plt.xlabel('num_orders')\n",
    "plt.ylabel('total_spend')\n",
    "plt.legend()\n",
    "\n",
    "plt.title('K-Means Clustering (total_spend vs num_orders)')\n",
    "plt.show()"
   ]
  },
  {
   "cell_type": "code",
   "execution_count": 16,
   "id": "7a70e943",
   "metadata": {},
   "outputs": [],
   "source": [
    "from sklearn.preprocessing import StandardScaler"
   ]
  },
  {
   "cell_type": "code",
   "execution_count": 17,
   "id": "9e15427f",
   "metadata": {},
   "outputs": [],
   "source": [
    "dfk.drop(['cluster'],inplace=True, axis=1)"
   ]
  },
  {
   "cell_type": "code",
   "execution_count": 18,
   "id": "e199a5bf",
   "metadata": {},
   "outputs": [],
   "source": [
    "scaler = StandardScaler()\n",
    "\n",
    "\n",
    "numeric_columns = dfk.select_dtypes(include=['float64', 'int64']).columns\n"
   ]
  },
  {
   "cell_type": "code",
   "execution_count": 19,
   "id": "8f9eda0e",
   "metadata": {},
   "outputs": [],
   "source": [
    "dfk[numeric_columns] = scaler.fit_transform(dfk[numeric_columns])\n"
   ]
  },
  {
   "cell_type": "code",
   "execution_count": 20,
   "id": "9890bb8c",
   "metadata": {},
   "outputs": [
    {
     "data": {
      "text/html": [
       "<div>\n",
       "<style scoped>\n",
       "    .dataframe tbody tr th:only-of-type {\n",
       "        vertical-align: middle;\n",
       "    }\n",
       "\n",
       "    .dataframe tbody tr th {\n",
       "        vertical-align: top;\n",
       "    }\n",
       "\n",
       "    .dataframe thead th {\n",
       "        text-align: right;\n",
       "    }\n",
       "</style>\n",
       "<table border=\"1\" class=\"dataframe\">\n",
       "  <thead>\n",
       "    <tr style=\"text-align: right;\">\n",
       "      <th></th>\n",
       "      <th>total_spend</th>\n",
       "      <th>num_orders</th>\n",
       "    </tr>\n",
       "  </thead>\n",
       "  <tbody>\n",
       "    <tr>\n",
       "      <th>0</th>\n",
       "      <td>1.051607</td>\n",
       "      <td>-0.852616</td>\n",
       "    </tr>\n",
       "    <tr>\n",
       "      <th>1</th>\n",
       "      <td>-0.290342</td>\n",
       "      <td>0.947823</td>\n",
       "    </tr>\n",
       "    <tr>\n",
       "      <th>2</th>\n",
       "      <td>1.568577</td>\n",
       "      <td>-1.140686</td>\n",
       "    </tr>\n",
       "    <tr>\n",
       "      <th>3</th>\n",
       "      <td>-0.124993</td>\n",
       "      <td>1.451946</td>\n",
       "    </tr>\n",
       "    <tr>\n",
       "      <th>4</th>\n",
       "      <td>0.340295</td>\n",
       "      <td>1.379929</td>\n",
       "    </tr>\n",
       "    <tr>\n",
       "      <th>...</th>\n",
       "      <td>...</td>\n",
       "      <td>...</td>\n",
       "    </tr>\n",
       "    <tr>\n",
       "      <th>995</th>\n",
       "      <td>0.033951</td>\n",
       "      <td>-1.572792</td>\n",
       "    </tr>\n",
       "    <tr>\n",
       "      <th>996</th>\n",
       "      <td>1.705198</td>\n",
       "      <td>0.299665</td>\n",
       "    </tr>\n",
       "    <tr>\n",
       "      <th>997</th>\n",
       "      <td>0.706507</td>\n",
       "      <td>-1.284722</td>\n",
       "    </tr>\n",
       "    <tr>\n",
       "      <th>998</th>\n",
       "      <td>0.985362</td>\n",
       "      <td>1.451946</td>\n",
       "    </tr>\n",
       "    <tr>\n",
       "      <th>999</th>\n",
       "      <td>1.287323</td>\n",
       "      <td>-0.924634</td>\n",
       "    </tr>\n",
       "  </tbody>\n",
       "</table>\n",
       "<p>1000 rows × 2 columns</p>\n",
       "</div>"
      ],
      "text/plain": [
       "     total_spend  num_orders\n",
       "0       1.051607   -0.852616\n",
       "1      -0.290342    0.947823\n",
       "2       1.568577   -1.140686\n",
       "3      -0.124993    1.451946\n",
       "4       0.340295    1.379929\n",
       "..           ...         ...\n",
       "995     0.033951   -1.572792\n",
       "996     1.705198    0.299665\n",
       "997     0.706507   -1.284722\n",
       "998     0.985362    1.451946\n",
       "999     1.287323   -0.924634\n",
       "\n",
       "[1000 rows x 2 columns]"
      ]
     },
     "execution_count": 20,
     "metadata": {},
     "output_type": "execute_result"
    }
   ],
   "source": [
    "dfk"
   ]
  },
  {
   "cell_type": "code",
   "execution_count": 21,
   "id": "cd029db7",
   "metadata": {},
   "outputs": [],
   "source": [
    "km=KMeans(n_clusters=5, random_state=42)\n",
    "y_pred = km.fit_predict(X)\n",
    "dfk['cluster'] = y_pred"
   ]
  },
  {
   "cell_type": "code",
   "execution_count": 22,
   "id": "e7b0f7cf",
   "metadata": {},
   "outputs": [
    {
     "data": {
      "text/html": [
       "<div>\n",
       "<style scoped>\n",
       "    .dataframe tbody tr th:only-of-type {\n",
       "        vertical-align: middle;\n",
       "    }\n",
       "\n",
       "    .dataframe tbody tr th {\n",
       "        vertical-align: top;\n",
       "    }\n",
       "\n",
       "    .dataframe thead th {\n",
       "        text-align: right;\n",
       "    }\n",
       "</style>\n",
       "<table border=\"1\" class=\"dataframe\">\n",
       "  <thead>\n",
       "    <tr style=\"text-align: right;\">\n",
       "      <th></th>\n",
       "      <th>total_spend</th>\n",
       "      <th>num_orders</th>\n",
       "      <th>cluster</th>\n",
       "    </tr>\n",
       "  </thead>\n",
       "  <tbody>\n",
       "    <tr>\n",
       "      <th>0</th>\n",
       "      <td>1.051607</td>\n",
       "      <td>-0.852616</td>\n",
       "      <td>2</td>\n",
       "    </tr>\n",
       "    <tr>\n",
       "      <th>1</th>\n",
       "      <td>-0.290342</td>\n",
       "      <td>0.947823</td>\n",
       "      <td>0</td>\n",
       "    </tr>\n",
       "    <tr>\n",
       "      <th>2</th>\n",
       "      <td>1.568577</td>\n",
       "      <td>-1.140686</td>\n",
       "      <td>2</td>\n",
       "    </tr>\n",
       "    <tr>\n",
       "      <th>3</th>\n",
       "      <td>-0.124993</td>\n",
       "      <td>1.451946</td>\n",
       "      <td>0</td>\n",
       "    </tr>\n",
       "    <tr>\n",
       "      <th>4</th>\n",
       "      <td>0.340295</td>\n",
       "      <td>1.379929</td>\n",
       "      <td>4</td>\n",
       "    </tr>\n",
       "    <tr>\n",
       "      <th>...</th>\n",
       "      <td>...</td>\n",
       "      <td>...</td>\n",
       "      <td>...</td>\n",
       "    </tr>\n",
       "    <tr>\n",
       "      <th>995</th>\n",
       "      <td>0.033951</td>\n",
       "      <td>-1.572792</td>\n",
       "      <td>0</td>\n",
       "    </tr>\n",
       "    <tr>\n",
       "      <th>996</th>\n",
       "      <td>1.705198</td>\n",
       "      <td>0.299665</td>\n",
       "      <td>2</td>\n",
       "    </tr>\n",
       "    <tr>\n",
       "      <th>997</th>\n",
       "      <td>0.706507</td>\n",
       "      <td>-1.284722</td>\n",
       "      <td>4</td>\n",
       "    </tr>\n",
       "    <tr>\n",
       "      <th>998</th>\n",
       "      <td>0.985362</td>\n",
       "      <td>1.451946</td>\n",
       "      <td>4</td>\n",
       "    </tr>\n",
       "    <tr>\n",
       "      <th>999</th>\n",
       "      <td>1.287323</td>\n",
       "      <td>-0.924634</td>\n",
       "      <td>2</td>\n",
       "    </tr>\n",
       "  </tbody>\n",
       "</table>\n",
       "<p>1000 rows × 3 columns</p>\n",
       "</div>"
      ],
      "text/plain": [
       "     total_spend  num_orders  cluster\n",
       "0       1.051607   -0.852616        2\n",
       "1      -0.290342    0.947823        0\n",
       "2       1.568577   -1.140686        2\n",
       "3      -0.124993    1.451946        0\n",
       "4       0.340295    1.379929        4\n",
       "..           ...         ...      ...\n",
       "995     0.033951   -1.572792        0\n",
       "996     1.705198    0.299665        2\n",
       "997     0.706507   -1.284722        4\n",
       "998     0.985362    1.451946        4\n",
       "999     1.287323   -0.924634        2\n",
       "\n",
       "[1000 rows x 3 columns]"
      ]
     },
     "execution_count": 22,
     "metadata": {},
     "output_type": "execute_result"
    }
   ],
   "source": [
    "dfk"
   ]
  },
  {
   "cell_type": "code",
   "execution_count": 23,
   "id": "7d96d29c",
   "metadata": {},
   "outputs": [],
   "source": [
    "df1=dfk[dfk.cluster==0]\n",
    "df2=dfk[dfk.cluster==1]\n",
    "df3=dfk[dfk.cluster==2]\n",
    "df4=dfk[dfk.cluster==3]\n",
    "df5=dfk[dfk.cluster==4]\n"
   ]
  },
  {
   "cell_type": "code",
   "execution_count": 24,
   "id": "cdec3167",
   "metadata": {},
   "outputs": [
    {
     "data": {
      "text/plain": [
       "array([[5152.70646384,   26.02272727],\n",
       "       [1065.30617203,   24.75132275],\n",
       "       [9013.37191669,   25.39378238],\n",
       "       [3200.45294536,   26.71759259],\n",
       "       [6962.20644544,   26.1460177 ]])"
      ]
     },
     "execution_count": 24,
     "metadata": {},
     "output_type": "execute_result"
    }
   ],
   "source": [
    "km.cluster_centers_"
   ]
  },
  {
   "cell_type": "code",
   "execution_count": 26,
   "id": "b0e0e5bb",
   "metadata": {},
   "outputs": [
    {
     "name": "stderr",
     "output_type": "stream",
     "text": [
      "No artists with labels found to put in legend.  Note that artists whose label start with an underscore are ignored when legend() is called with no argument.\n"
     ]
    },
    {
     "data": {
      "text/plain": [
       "<matplotlib.legend.Legend at 0x28fd14650d0>"
      ]
     },
     "execution_count": 26,
     "metadata": {},
     "output_type": "execute_result"
    },
    {
     "data": {
      "image/png": "[encoded data removed]",
      "text/plain": [
       "<Figure size 432x288 with 1 Axes>"
      ]
     },
     "metadata": {
      "needs_background": "light"
     },
     "output_type": "display_data"
    }
   ],
   "source": [
    "plt.scatter(df1.num_orders,df1['total_spend'],color='red')\n",
    "plt.scatter(df2.num_orders,df2['total_spend'],color='green')\n",
    "plt.scatter(df3.num_orders,df3['total_spend'],color='blue')\n",
    "plt.scatter(df4.num_orders,df4['total_spend'],color='pink')\n",
    "plt.scatter(df5.num_orders,df5['total_spend'],color='yellow')\n",
    "\n",
    "plt.xlabel('num_orders')\n",
    "plt.ylabel('total_spend')\n",
    "plt.legend()"
   ]
  },
  {
   "cell_type": "code",
   "execution_count": 28,
   "id": "6119cf02",
   "metadata": {},
   "outputs": [
    {
     "data": {
      "image/png": "[encoded data removed]",
      "text/plain": [
       "<Figure size 432x288 with 1 Axes>"
      ]
     },
     "metadata": {
      "needs_background": "light"
     },
     "output_type": "display_data"
    }
   ],
   "source": [
    "plt.scatter(df1.num_orders,df1['total_spend'],color='red')\n",
    "plt.scatter(df2.num_orders,df2['total_spend'],color='green')\n",
    "plt.scatter(df3.num_orders,df3['total_spend'],color='blue')\n",
    "plt.scatter(df4.num_orders,df4['total_spend'],color='pink')\n",
    "plt.scatter(df5.num_orders,df5['total_spend'],color='yellow')\n",
    "\n",
    "plt.scatter(km.cluster_centers_[:, 0], km.cluster_centers_[:, 1], color='purple', marker='X', s=400, label='Centroids')\n",
    "\n",
    "plt.xlabel('num_orders')\n",
    "plt.ylabel('total_spend')\n",
    "plt.legend()\n",
    "\n",
    "plt.title('K-Means Clustering (total_spend vs num_orders)')\n",
    "plt.show()"
   ]
  },
  {
   "cell_type": "code",
   "execution_count": 29,
   "id": "094067a2",
   "metadata": {},
   "outputs": [],
   "source": [
    "dfk.to_csv('kmeans_data.csv')"
   ]
  },
  {
   "cell_type": "code",
   "execution_count": null,
   "id": "222c3010",
   "metadata": {},
   "outputs": [],
   "source": []
  }
 ],
 "metadata": {
  "kernelspec": {
   "display_name": "Python 3 (ipykernel)",
   "language": "python",
   "name": "python3"
  },
  "language_info": {
   "codemirror_mode": {
    "name": "ipython",
    "version": 3
   },
   "file_extension": ".py",
   "mimetype": "text/x-python",
   "name": "python",
   "nbconvert_exporter": "python",
   "pygments_lexer": "ipython3",
   "version": "3.9.12"
  }
 },
 "nbformat": 4,
 "nbformat_minor": 5
}
